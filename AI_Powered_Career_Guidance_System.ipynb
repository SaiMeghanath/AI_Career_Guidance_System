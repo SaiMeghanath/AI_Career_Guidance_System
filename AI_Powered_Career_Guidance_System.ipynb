{
  "nbformat": 4,
  "nbformat_minor": 0,
  "metadata": {
    "colab": {
      "provenance": [],
      "gpuType": "T4",
      "authorship_tag": "ABX9TyOEkjbFy3y5C3HAuLPGsErI",
      "include_colab_link": true
    },
    "kernelspec": {
      "name": "python3",
      "display_name": "Python 3"
    },
    "language_info": {
      "name": "python"
    }
  },
  "cells": [
    {
      "cell_type": "markdown",
      "metadata": {
        "id": "view-in-github",
        "colab_type": "text"
      },
      "source": [
        "<a href=\"https://colab.research.google.com/github/SaiMeghanath/AI_Career_Guidance_System/blob/main/AI_Powered_Career_Guidance_System.ipynb\" target=\"_parent\"><img src=\"https://colab.research.google.com/assets/colab-badge.svg\" alt=\"Open In Colab\"/></a>"
      ]
    },
    {
      "cell_type": "markdown",
      "source": [
        "**\"AI-Powered Career Guidance System using Python Full Stack Technologies\"**\n",
        "\n",
        "---\n",
        "\n"
      ],
      "metadata": {
        "id": "FE6wqh5Zb4LN"
      }
    },
    {
      "cell_type": "markdown",
      "source": [
        "**📌 1. Project Title and Introduction**"
      ],
      "metadata": {
        "id": "kfFsGfERSkux"
      }
    },
    {
      "cell_type": "markdown",
      "source": [
        "# 🎯 AI-Powered Career Guidance System\n",
        "This project provides intelligent career recommendations based on user skills and interests using Python Full Stack technologies.  \n",
        "It uses a rule-based AI engine built with Python and Flask, deployed publicly via ngrok.\n",
        "\n",
        "---\n",
        "\n"
      ],
      "metadata": {
        "id": "KHKkZYx-Rzzk"
      }
    },
    {
      "cell_type": "markdown",
      "source": [
        "# **2. Install Required Libraries**"
      ],
      "metadata": {
        "id": "0CiKvMwDSeQU"
      }
    },
    {
      "cell_type": "markdown",
      "source": [
        "** Step 1: Project Setup + Sample Career Dataset**\n",
        "\n",
        "\n"
      ],
      "metadata": {
        "id": "pYJ905TRciMF"
      }
    },
    {
      "cell_type": "code",
      "execution_count": 8,
      "metadata": {
        "id": "HEFzNsNFbV6l"
      },
      "outputs": [],
      "source": [
        "#  Install libraries (only if not already installed)\n",
        "!pip install flask pyngrok --quiet\n",
        "\n",
        "\n"
      ]
    },
    {
      "cell_type": "markdown",
      "source": [
        "\n",
        "\n",
        "---\n",
        "\n"
      ],
      "metadata": {
        "id": "vZ605ogZS05r"
      }
    },
    {
      "cell_type": "markdown",
      "source": [
        "**3. Import Libraries and Prepare Dataset**"
      ],
      "metadata": {
        "id": "7Pue4I3ycYpw"
      }
    },
    {
      "cell_type": "code",
      "source": [
        "from flask import Flask, request, jsonify\n",
        "from pyngrok import ngrok\n",
        "import pandas as pd\n",
        "\n",
        "# Sample dataset of careers\n",
        "data = [\n",
        "    {\"career\": \"Data Scientist\", \"skills\": [\"Python\", \"Statistics\", \"Machine Learning\"], \"interests\": [\"Data Analysis\", \"AI\", \"Problem Solving\"]},\n",
        "    {\"career\": \"Web Developer\", \"skills\": [\"HTML\", \"CSS\", \"JavaScript\", \"Python\"], \"interests\": [\"Design\", \"UI/UX\", \"Building Websites\"]},\n",
        "    {\"career\": \"AI Researcher\", \"skills\": [\"Deep Learning\", \"Python\", \"NLP\"], \"interests\": [\"AI\", \"Research\", \"Mathematics\"]},\n",
        "    {\"career\": \"Cloud Engineer\", \"skills\": [\"AWS\", \"Python\", \"Linux\"], \"interests\": [\"Cloud\", \"DevOps\", \"Infrastructure\"]},\n",
        "    {\"career\": \"Business Analyst\", \"skills\": [\"Excel\", \"SQL\", \"Python\"], \"interests\": [\"Business\", \"Data\", \"Decision Making\"]}\n",
        "]\n",
        "\n",
        "df = pd.DataFrame(data)\n",
        "df\n",
        "\n",
        "\n"
      ],
      "metadata": {
        "colab": {
          "base_uri": "https://localhost:8080/",
          "height": 206
        },
        "id": "gXwvTfkGbyI-",
        "outputId": "b1452375-3c24-4a85-e1e7-70efc823ff42"
      },
      "execution_count": 9,
      "outputs": [
        {
          "output_type": "execute_result",
          "data": {
            "text/plain": [
              "             career                                  skills  \\\n",
              "0    Data Scientist  [Python, Statistics, Machine Learning]   \n",
              "1     Web Developer         [HTML, CSS, JavaScript, Python]   \n",
              "2     AI Researcher            [Deep Learning, Python, NLP]   \n",
              "3    Cloud Engineer                    [AWS, Python, Linux]   \n",
              "4  Business Analyst                    [Excel, SQL, Python]   \n",
              "\n",
              "                              interests  \n",
              "0  [Data Analysis, AI, Problem Solving]  \n",
              "1    [Design, UI/UX, Building Websites]  \n",
              "2           [AI, Research, Mathematics]  \n",
              "3       [Cloud, DevOps, Infrastructure]  \n",
              "4     [Business, Data, Decision Making]  "
            ],
            "text/html": [
              "\n",
              "  <div id=\"df-40b4b327-eccf-487d-9bb5-7893161583c8\" class=\"colab-df-container\">\n",
              "    <div>\n",
              "<style scoped>\n",
              "    .dataframe tbody tr th:only-of-type {\n",
              "        vertical-align: middle;\n",
              "    }\n",
              "\n",
              "    .dataframe tbody tr th {\n",
              "        vertical-align: top;\n",
              "    }\n",
              "\n",
              "    .dataframe thead th {\n",
              "        text-align: right;\n",
              "    }\n",
              "</style>\n",
              "<table border=\"1\" class=\"dataframe\">\n",
              "  <thead>\n",
              "    <tr style=\"text-align: right;\">\n",
              "      <th></th>\n",
              "      <th>career</th>\n",
              "      <th>skills</th>\n",
              "      <th>interests</th>\n",
              "    </tr>\n",
              "  </thead>\n",
              "  <tbody>\n",
              "    <tr>\n",
              "      <th>0</th>\n",
              "      <td>Data Scientist</td>\n",
              "      <td>[Python, Statistics, Machine Learning]</td>\n",
              "      <td>[Data Analysis, AI, Problem Solving]</td>\n",
              "    </tr>\n",
              "    <tr>\n",
              "      <th>1</th>\n",
              "      <td>Web Developer</td>\n",
              "      <td>[HTML, CSS, JavaScript, Python]</td>\n",
              "      <td>[Design, UI/UX, Building Websites]</td>\n",
              "    </tr>\n",
              "    <tr>\n",
              "      <th>2</th>\n",
              "      <td>AI Researcher</td>\n",
              "      <td>[Deep Learning, Python, NLP]</td>\n",
              "      <td>[AI, Research, Mathematics]</td>\n",
              "    </tr>\n",
              "    <tr>\n",
              "      <th>3</th>\n",
              "      <td>Cloud Engineer</td>\n",
              "      <td>[AWS, Python, Linux]</td>\n",
              "      <td>[Cloud, DevOps, Infrastructure]</td>\n",
              "    </tr>\n",
              "    <tr>\n",
              "      <th>4</th>\n",
              "      <td>Business Analyst</td>\n",
              "      <td>[Excel, SQL, Python]</td>\n",
              "      <td>[Business, Data, Decision Making]</td>\n",
              "    </tr>\n",
              "  </tbody>\n",
              "</table>\n",
              "</div>\n",
              "    <div class=\"colab-df-buttons\">\n",
              "\n",
              "  <div class=\"colab-df-container\">\n",
              "    <button class=\"colab-df-convert\" onclick=\"convertToInteractive('df-40b4b327-eccf-487d-9bb5-7893161583c8')\"\n",
              "            title=\"Convert this dataframe to an interactive table.\"\n",
              "            style=\"display:none;\">\n",
              "\n",
              "  <svg xmlns=\"http://www.w3.org/2000/svg\" height=\"24px\" viewBox=\"0 -960 960 960\">\n",
              "    <path d=\"M120-120v-720h720v720H120Zm60-500h600v-160H180v160Zm220 220h160v-160H400v160Zm0 220h160v-160H400v160ZM180-400h160v-160H180v160Zm440 0h160v-160H620v160ZM180-180h160v-160H180v160Zm440 0h160v-160H620v160Z\"/>\n",
              "  </svg>\n",
              "    </button>\n",
              "\n",
              "  <style>\n",
              "    .colab-df-container {\n",
              "      display:flex;\n",
              "      gap: 12px;\n",
              "    }\n",
              "\n",
              "    .colab-df-convert {\n",
              "      background-color: #E8F0FE;\n",
              "      border: none;\n",
              "      border-radius: 50%;\n",
              "      cursor: pointer;\n",
              "      display: none;\n",
              "      fill: #1967D2;\n",
              "      height: 32px;\n",
              "      padding: 0 0 0 0;\n",
              "      width: 32px;\n",
              "    }\n",
              "\n",
              "    .colab-df-convert:hover {\n",
              "      background-color: #E2EBFA;\n",
              "      box-shadow: 0px 1px 2px rgba(60, 64, 67, 0.3), 0px 1px 3px 1px rgba(60, 64, 67, 0.15);\n",
              "      fill: #174EA6;\n",
              "    }\n",
              "\n",
              "    .colab-df-buttons div {\n",
              "      margin-bottom: 4px;\n",
              "    }\n",
              "\n",
              "    [theme=dark] .colab-df-convert {\n",
              "      background-color: #3B4455;\n",
              "      fill: #D2E3FC;\n",
              "    }\n",
              "\n",
              "    [theme=dark] .colab-df-convert:hover {\n",
              "      background-color: #434B5C;\n",
              "      box-shadow: 0px 1px 3px 1px rgba(0, 0, 0, 0.15);\n",
              "      filter: drop-shadow(0px 1px 2px rgba(0, 0, 0, 0.3));\n",
              "      fill: #FFFFFF;\n",
              "    }\n",
              "  </style>\n",
              "\n",
              "    <script>\n",
              "      const buttonEl =\n",
              "        document.querySelector('#df-40b4b327-eccf-487d-9bb5-7893161583c8 button.colab-df-convert');\n",
              "      buttonEl.style.display =\n",
              "        google.colab.kernel.accessAllowed ? 'block' : 'none';\n",
              "\n",
              "      async function convertToInteractive(key) {\n",
              "        const element = document.querySelector('#df-40b4b327-eccf-487d-9bb5-7893161583c8');\n",
              "        const dataTable =\n",
              "          await google.colab.kernel.invokeFunction('convertToInteractive',\n",
              "                                                    [key], {});\n",
              "        if (!dataTable) return;\n",
              "\n",
              "        const docLinkHtml = 'Like what you see? Visit the ' +\n",
              "          '<a target=\"_blank\" href=https://colab.research.google.com/notebooks/data_table.ipynb>data table notebook</a>'\n",
              "          + ' to learn more about interactive tables.';\n",
              "        element.innerHTML = '';\n",
              "        dataTable['output_type'] = 'display_data';\n",
              "        await google.colab.output.renderOutput(dataTable, element);\n",
              "        const docLink = document.createElement('div');\n",
              "        docLink.innerHTML = docLinkHtml;\n",
              "        element.appendChild(docLink);\n",
              "      }\n",
              "    </script>\n",
              "  </div>\n",
              "\n",
              "\n",
              "    <div id=\"df-7a413602-8a18-4870-a7ce-c0e7e60fb0ef\">\n",
              "      <button class=\"colab-df-quickchart\" onclick=\"quickchart('df-7a413602-8a18-4870-a7ce-c0e7e60fb0ef')\"\n",
              "                title=\"Suggest charts\"\n",
              "                style=\"display:none;\">\n",
              "\n",
              "<svg xmlns=\"http://www.w3.org/2000/svg\" height=\"24px\"viewBox=\"0 0 24 24\"\n",
              "     width=\"24px\">\n",
              "    <g>\n",
              "        <path d=\"M19 3H5c-1.1 0-2 .9-2 2v14c0 1.1.9 2 2 2h14c1.1 0 2-.9 2-2V5c0-1.1-.9-2-2-2zM9 17H7v-7h2v7zm4 0h-2V7h2v10zm4 0h-2v-4h2v4z\"/>\n",
              "    </g>\n",
              "</svg>\n",
              "      </button>\n",
              "\n",
              "<style>\n",
              "  .colab-df-quickchart {\n",
              "      --bg-color: #E8F0FE;\n",
              "      --fill-color: #1967D2;\n",
              "      --hover-bg-color: #E2EBFA;\n",
              "      --hover-fill-color: #174EA6;\n",
              "      --disabled-fill-color: #AAA;\n",
              "      --disabled-bg-color: #DDD;\n",
              "  }\n",
              "\n",
              "  [theme=dark] .colab-df-quickchart {\n",
              "      --bg-color: #3B4455;\n",
              "      --fill-color: #D2E3FC;\n",
              "      --hover-bg-color: #434B5C;\n",
              "      --hover-fill-color: #FFFFFF;\n",
              "      --disabled-bg-color: #3B4455;\n",
              "      --disabled-fill-color: #666;\n",
              "  }\n",
              "\n",
              "  .colab-df-quickchart {\n",
              "    background-color: var(--bg-color);\n",
              "    border: none;\n",
              "    border-radius: 50%;\n",
              "    cursor: pointer;\n",
              "    display: none;\n",
              "    fill: var(--fill-color);\n",
              "    height: 32px;\n",
              "    padding: 0;\n",
              "    width: 32px;\n",
              "  }\n",
              "\n",
              "  .colab-df-quickchart:hover {\n",
              "    background-color: var(--hover-bg-color);\n",
              "    box-shadow: 0 1px 2px rgba(60, 64, 67, 0.3), 0 1px 3px 1px rgba(60, 64, 67, 0.15);\n",
              "    fill: var(--button-hover-fill-color);\n",
              "  }\n",
              "\n",
              "  .colab-df-quickchart-complete:disabled,\n",
              "  .colab-df-quickchart-complete:disabled:hover {\n",
              "    background-color: var(--disabled-bg-color);\n",
              "    fill: var(--disabled-fill-color);\n",
              "    box-shadow: none;\n",
              "  }\n",
              "\n",
              "  .colab-df-spinner {\n",
              "    border: 2px solid var(--fill-color);\n",
              "    border-color: transparent;\n",
              "    border-bottom-color: var(--fill-color);\n",
              "    animation:\n",
              "      spin 1s steps(1) infinite;\n",
              "  }\n",
              "\n",
              "  @keyframes spin {\n",
              "    0% {\n",
              "      border-color: transparent;\n",
              "      border-bottom-color: var(--fill-color);\n",
              "      border-left-color: var(--fill-color);\n",
              "    }\n",
              "    20% {\n",
              "      border-color: transparent;\n",
              "      border-left-color: var(--fill-color);\n",
              "      border-top-color: var(--fill-color);\n",
              "    }\n",
              "    30% {\n",
              "      border-color: transparent;\n",
              "      border-left-color: var(--fill-color);\n",
              "      border-top-color: var(--fill-color);\n",
              "      border-right-color: var(--fill-color);\n",
              "    }\n",
              "    40% {\n",
              "      border-color: transparent;\n",
              "      border-right-color: var(--fill-color);\n",
              "      border-top-color: var(--fill-color);\n",
              "    }\n",
              "    60% {\n",
              "      border-color: transparent;\n",
              "      border-right-color: var(--fill-color);\n",
              "    }\n",
              "    80% {\n",
              "      border-color: transparent;\n",
              "      border-right-color: var(--fill-color);\n",
              "      border-bottom-color: var(--fill-color);\n",
              "    }\n",
              "    90% {\n",
              "      border-color: transparent;\n",
              "      border-bottom-color: var(--fill-color);\n",
              "    }\n",
              "  }\n",
              "</style>\n",
              "\n",
              "      <script>\n",
              "        async function quickchart(key) {\n",
              "          const quickchartButtonEl =\n",
              "            document.querySelector('#' + key + ' button');\n",
              "          quickchartButtonEl.disabled = true;  // To prevent multiple clicks.\n",
              "          quickchartButtonEl.classList.add('colab-df-spinner');\n",
              "          try {\n",
              "            const charts = await google.colab.kernel.invokeFunction(\n",
              "                'suggestCharts', [key], {});\n",
              "          } catch (error) {\n",
              "            console.error('Error during call to suggestCharts:', error);\n",
              "          }\n",
              "          quickchartButtonEl.classList.remove('colab-df-spinner');\n",
              "          quickchartButtonEl.classList.add('colab-df-quickchart-complete');\n",
              "        }\n",
              "        (() => {\n",
              "          let quickchartButtonEl =\n",
              "            document.querySelector('#df-7a413602-8a18-4870-a7ce-c0e7e60fb0ef button');\n",
              "          quickchartButtonEl.style.display =\n",
              "            google.colab.kernel.accessAllowed ? 'block' : 'none';\n",
              "        })();\n",
              "      </script>\n",
              "    </div>\n",
              "\n",
              "  <div id=\"id_d248ec4f-7137-4bfe-b869-477064928338\">\n",
              "    <style>\n",
              "      .colab-df-generate {\n",
              "        background-color: #E8F0FE;\n",
              "        border: none;\n",
              "        border-radius: 50%;\n",
              "        cursor: pointer;\n",
              "        display: none;\n",
              "        fill: #1967D2;\n",
              "        height: 32px;\n",
              "        padding: 0 0 0 0;\n",
              "        width: 32px;\n",
              "      }\n",
              "\n",
              "      .colab-df-generate:hover {\n",
              "        background-color: #E2EBFA;\n",
              "        box-shadow: 0px 1px 2px rgba(60, 64, 67, 0.3), 0px 1px 3px 1px rgba(60, 64, 67, 0.15);\n",
              "        fill: #174EA6;\n",
              "      }\n",
              "\n",
              "      [theme=dark] .colab-df-generate {\n",
              "        background-color: #3B4455;\n",
              "        fill: #D2E3FC;\n",
              "      }\n",
              "\n",
              "      [theme=dark] .colab-df-generate:hover {\n",
              "        background-color: #434B5C;\n",
              "        box-shadow: 0px 1px 3px 1px rgba(0, 0, 0, 0.15);\n",
              "        filter: drop-shadow(0px 1px 2px rgba(0, 0, 0, 0.3));\n",
              "        fill: #FFFFFF;\n",
              "      }\n",
              "    </style>\n",
              "    <button class=\"colab-df-generate\" onclick=\"generateWithVariable('df')\"\n",
              "            title=\"Generate code using this dataframe.\"\n",
              "            style=\"display:none;\">\n",
              "\n",
              "  <svg xmlns=\"http://www.w3.org/2000/svg\" height=\"24px\"viewBox=\"0 0 24 24\"\n",
              "       width=\"24px\">\n",
              "    <path d=\"M7,19H8.4L18.45,9,17,7.55,7,17.6ZM5,21V16.75L18.45,3.32a2,2,0,0,1,2.83,0l1.4,1.43a1.91,1.91,0,0,1,.58,1.4,1.91,1.91,0,0,1-.58,1.4L9.25,21ZM18.45,9,17,7.55Zm-12,3A5.31,5.31,0,0,0,4.9,8.1,5.31,5.31,0,0,0,1,6.5,5.31,5.31,0,0,0,4.9,4.9,5.31,5.31,0,0,0,6.5,1,5.31,5.31,0,0,0,8.1,4.9,5.31,5.31,0,0,0,12,6.5,5.46,5.46,0,0,0,6.5,12Z\"/>\n",
              "  </svg>\n",
              "    </button>\n",
              "    <script>\n",
              "      (() => {\n",
              "      const buttonEl =\n",
              "        document.querySelector('#id_d248ec4f-7137-4bfe-b869-477064928338 button.colab-df-generate');\n",
              "      buttonEl.style.display =\n",
              "        google.colab.kernel.accessAllowed ? 'block' : 'none';\n",
              "\n",
              "      buttonEl.onclick = () => {\n",
              "        google.colab.notebook.generateWithVariable('df');\n",
              "      }\n",
              "      })();\n",
              "    </script>\n",
              "  </div>\n",
              "\n",
              "    </div>\n",
              "  </div>\n"
            ],
            "application/vnd.google.colaboratory.intrinsic+json": {
              "type": "dataframe",
              "variable_name": "df",
              "summary": "{\n  \"name\": \"df\",\n  \"rows\": 5,\n  \"fields\": [\n    {\n      \"column\": \"career\",\n      \"properties\": {\n        \"dtype\": \"string\",\n        \"num_unique_values\": 5,\n        \"samples\": [\n          \"Web Developer\",\n          \"Business Analyst\",\n          \"AI Researcher\"\n        ],\n        \"semantic_type\": \"\",\n        \"description\": \"\"\n      }\n    },\n    {\n      \"column\": \"skills\",\n      \"properties\": {\n        \"dtype\": \"object\",\n        \"semantic_type\": \"\",\n        \"description\": \"\"\n      }\n    },\n    {\n      \"column\": \"interests\",\n      \"properties\": {\n        \"dtype\": \"object\",\n        \"semantic_type\": \"\",\n        \"description\": \"\"\n      }\n    }\n  ]\n}"
            }
          },
          "metadata": {},
          "execution_count": 9
        }
      ]
    },
    {
      "cell_type": "markdown",
      "source": [
        "\n",
        "\n",
        "---\n",
        "\n"
      ],
      "metadata": {
        "id": "_RnVggkXS75c"
      }
    },
    {
      "cell_type": "markdown",
      "source": [
        "**4. Take User Input**"
      ],
      "metadata": {
        "id": "gmq1_s0nS9EA"
      }
    },
    {
      "cell_type": "markdown",
      "source": [
        "## Step 2: Take User Input for Skills and Interests\n"
      ],
      "metadata": {
        "id": "Z9vJItAkYKtt"
      }
    },
    {
      "cell_type": "code",
      "source": [
        "# Get user input (CLI-style)\n",
        "user_skills = input(\"Enter your skills (comma-separated): \").strip().title().split(\",\")\n",
        "user_interests = input(\"Enter your interests (comma-separated): \").strip().title().split(\",\")\n",
        "\n",
        "user_skills = [skill.strip() for skill in user_skills]\n",
        "user_interests = [interest.strip() for interest in user_interests]\n",
        "\n",
        "print(\"✅ Your Skills:\", user_skills)\n",
        "print(\"✅ Your Interests:\", user_interests)\n",
        "\n"
      ],
      "metadata": {
        "colab": {
          "base_uri": "https://localhost:8080/"
        },
        "id": "qLdVPXYhbx7v",
        "outputId": "ddd7646a-2d6c-45b2-9325-611137b318eb"
      },
      "execution_count": 11,
      "outputs": [
        {
          "output_type": "stream",
          "name": "stdout",
          "text": [
            "Enter your skills (comma-separated): Pyhon,powerbi\n",
            "Enter your interests (comma-separated): AI,ML\n",
            "✅ Your Skills: ['Pyhon', 'Powerbi']\n",
            "✅ Your Interests: ['Ai', 'Ml']\n"
          ]
        }
      ]
    },
    {
      "cell_type": "markdown",
      "source": [
        "**5. Matching Logic: Score and Recommend Careers**"
      ],
      "metadata": {
        "id": "dSUnS8QVc-OR"
      }
    },
    {
      "cell_type": "markdown",
      "source": [
        "**## Step 3: Match Careers Based on User Input**\n"
      ],
      "metadata": {
        "id": "UYN-iPMUY-OI"
      }
    },
    {
      "cell_type": "code",
      "source": [
        "# Score careers\n",
        "def score_career(row, user_skills, user_interests):\n",
        "    skill_matches = len(set(row['skills']) & set(user_skills))\n",
        "    interest_matches = len(set(row['interests']) & set(user_interests))\n",
        "    return skill_matches + interest_matches\n",
        "\n",
        "df['score'] = df.apply(lambda row: score_career(row, user_skills, user_interests), axis=1)\n",
        "sorted_df = df.sort_values(by='score', ascending=False)\n",
        "\n",
        "top_matches = sorted_df[sorted_df['score'] > 0].head(3)\n",
        "\n",
        "if not top_matches.empty:\n",
        "    print(\"\\n🎯 Top Career Recommendations for You:\\n\")\n",
        "    for index, row in top_matches.iterrows():\n",
        "        print(f\"👉 {row['career']} (Score: {row['score']})\")\n",
        "else:\n",
        "    print(\"❌ No matching careers found.\")\n",
        "\n"
      ],
      "metadata": {
        "colab": {
          "base_uri": "https://localhost:8080/"
        },
        "id": "8D2JzXQSc_59",
        "outputId": "a43d2325-85f9-4dec-e20e-28be9b59f5f9"
      },
      "execution_count": 12,
      "outputs": [
        {
          "output_type": "stream",
          "name": "stdout",
          "text": [
            "❌ No matching careers found.\n"
          ]
        }
      ]
    },
    {
      "cell_type": "markdown",
      "source": [
        "\n",
        "\n",
        "---\n",
        "\n"
      ],
      "metadata": {
        "id": "stlJifYGTGzO"
      }
    },
    {
      "cell_type": "markdown",
      "source": [
        "**6. Flask API Setup**"
      ],
      "metadata": {
        "id": "KljvpU6BTIbp"
      }
    },
    {
      "cell_type": "markdown",
      "source": [
        "**Step 4: Create Flask API Endpoint for Career Recommendations**\n"
      ],
      "metadata": {
        "id": "QAX01ithdJr9"
      }
    },
    {
      "cell_type": "code",
      "source": [
        "app = Flask(__name__)\n",
        "\n",
        "@app.route(\"/recommend\", methods=[\"POST\"])\n",
        "def recommend():\n",
        "    data = request.get_json()\n",
        "    user_skills = [s.strip().title() for s in data.get(\"skills\", [])]\n",
        "    user_interests = [i.strip().title() for i in data.get(\"interests\", [])]\n",
        "\n",
        "    def score_career(row):\n",
        "        return len(set(row['skills']) & set(user_skills)) + len(set(row['interests']) & set(user_interests))\n",
        "\n",
        "    df['score'] = df.apply(score_career, axis=1)\n",
        "    top_matches = df[df['score'] > 0].sort_values(by='score', ascending=False).head(3)\n",
        "\n",
        "    results = []\n",
        "    for _, row in top_matches.iterrows():\n",
        "        results.append({\n",
        "            \"career\": row['career'],\n",
        "            \"score\": row['score'],\n",
        "            \"matched_skills\": list(set(row['skills']) & set(user_skills)),\n",
        "            \"matched_interests\": list(set(row['interests']) & set(user_interests))\n",
        "        })\n",
        "\n",
        "    if results:\n",
        "        return jsonify({\"status\": \"success\", \"recommendations\": results})\n",
        "    else:\n",
        "        return jsonify({\"status\": \"no_match\", \"message\": \"No matching careers found.\"})\n"
      ],
      "metadata": {
        "id": "DpoOekJyN_KI"
      },
      "execution_count": 16,
      "outputs": []
    },
    {
      "cell_type": "markdown",
      "source": [
        "\n",
        "\n",
        "---\n",
        "\n"
      ],
      "metadata": {
        "id": "RQ0pEBHqTQJn"
      }
    },
    {
      "cell_type": "markdown",
      "source": [
        "**7. Start Flask with Ngrok**"
      ],
      "metadata": {
        "id": "A26Sn5fGTOK1"
      }
    },
    {
      "cell_type": "markdown",
      "source": [
        "**Step 5: Run Flask App Publicly via Ngrok**\n"
      ],
      "metadata": {
        "id": "FvvqoxMyZz1M"
      }
    },
    {
      "cell_type": "code",
      "source": [
        "!ngrok config add-authtoken 2siOxN1Mf3nbgcYEJwF4YjEfbwM_4oDe2SNpHvt1JfcoDbv2j\n"
      ],
      "metadata": {
        "colab": {
          "base_uri": "https://localhost:8080/"
        },
        "id": "UdTHVbuQOix5",
        "outputId": "7494ae01-1f41-4f1f-f3a1-82b3ada08c97"
      },
      "execution_count": 18,
      "outputs": [
        {
          "output_type": "stream",
          "name": "stdout",
          "text": [
            "Authtoken saved to configuration file: /root/.config/ngrok/ngrok.yml\n"
          ]
        }
      ]
    },
    {
      "cell_type": "code",
      "source": [
        "# 🔐 If not done already, run this once\n",
        "# !ngrok config add-authtoken YOUR_AUTHTOKEN_HERE\n",
        "\n",
        "public_url = ngrok.connect(5000)\n",
        "print(\"🔥 Your Flask API is live at:\", public_url)\n",
        "\n",
        "app.run(port=5000)\n"
      ],
      "metadata": {
        "colab": {
          "base_uri": "https://localhost:8080/"
        },
        "id": "nK5ijFsbZ9Sa",
        "outputId": "a2d6b8a0-82d4-45fd-ce49-ee7059063f71"
      },
      "execution_count": 22,
      "outputs": [
        {
          "output_type": "stream",
          "name": "stdout",
          "text": [
            "🔥 Your Flask API is live at: NgrokTunnel: \"https://26df-34-86-138-13.ngrok-free.app\" -> \"http://localhost:5000\"\n",
            " * Serving Flask app '__main__'\n",
            " * Debug mode: off\n"
          ]
        },
        {
          "output_type": "stream",
          "name": "stderr",
          "text": [
            "INFO:werkzeug:\u001b[31m\u001b[1mWARNING: This is a development server. Do not use it in a production deployment. Use a production WSGI server instead.\u001b[0m\n",
            " * Running on http://127.0.0.1:5000\n",
            "INFO:werkzeug:\u001b[33mPress CTRL+C to quit\u001b[0m\n"
          ]
        }
      ]
    },
    {
      "cell_type": "markdown",
      "source": [
        "**8. Test the API with Python**"
      ],
      "metadata": {
        "id": "UPaJwXl3aIti"
      }
    },
    {
      "cell_type": "markdown",
      "source": [
        "**Step 6: Test the API Using Python Requests**"
      ],
      "metadata": {
        "id": "8oUkHK2TaM44"
      }
    },
    {
      "cell_type": "code",
      "source": [
        "import requests\n",
        "\n",
        "API_URL = \"https://your-ngrok-url.ngrok-free.app/recommend\"  # Replace with your URL\n",
        "\n",
        "payload = {\n",
        "    \"skills\": [\"Python\", \"Flask\", \"HTML\"],\n",
        "    \"interests\": [\"AI\", \"Web Development\"]\n",
        "}\n",
        "\n",
        "response = requests.post(API_URL, json=payload)\n",
        "print(\"Status code:\", response.status_code)\n",
        "print(\"Response JSON:\", response.json())"
      ],
      "metadata": {
        "id": "m2Cey9q1b_k8"
      },
      "execution_count": null,
      "outputs": []
    }
  ]
}